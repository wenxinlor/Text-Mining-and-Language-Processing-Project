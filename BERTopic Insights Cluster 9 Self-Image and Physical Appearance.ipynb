{
 "cells": [
  {
   "cell_type": "code",
   "execution_count": 1,
   "id": "8c7bb74a-8db8-420d-bb38-b69fe54d239a",
   "metadata": {},
   "outputs": [],
   "source": [
    "#list of top frequent words in the cluster 9 of BERTopic Self-Image and Physical Appearance\n",
    "frequent_words = ['trans people', 'gay people', 'super straight', 'filler filler', 'mods gay', 'im gay', 'reddit mods gay', 'dont care', 'filler filler filler', 'reddit mods', 'dont want', 'im trans', 'feel like', 'dont know', 'just want', 'im going', 'im just', 'gender dysphoria', 'im transgender', 'dont think', 'im ugly', 'look like', 'youre ugly', 'good looking', 'ugly people', 'ugly just', 'called ugly', 'im pretty', 'fucking ugly', 'self esteem', 'long hair', 'cut hair', 'hair like', 'ass hair', 'facial hair', 'hair cut', 'hair im', 'ass haircut', 'yee yee', 'look mirror', 'leave house', 'plastic surgery']"
   ]
  },
  {
   "cell_type": "code",
   "execution_count": 2,
   "id": "0e57ebec-d0a2-433d-b8b1-9bea6231b82d",
   "metadata": {},
   "outputs": [],
   "source": [
    "#load data\n",
    "import pandas as pd\n",
    "df = pd.read_csv('Suicide_Detection.csv')"
   ]
  },
  {
   "cell_type": "code",
   "execution_count": 9,
   "id": "6fe2a318-96d6-49e3-af1b-7e96368ae04a",
   "metadata": {},
   "outputs": [],
   "source": [
    "#here is a list of more relevant frequent words that are related to self image and physical appearance\n",
    "relevant_frequent_words = ['trans people', 'gay people', 'super straight', 'mods gay', 'im gay', 'reddit mods gay', 'reddit mods', 'im trans', 'gender dysphoria', 'im transgender','im ugly', 'look like', 'youre ugly', 'good looking', 'ugly people', 'ugly just', 'called ugly', 'im pretty', 'fucking ugly', 'self esteem', 'long hair', 'cut hair', 'hair like', 'ass hair', 'facial hair', 'hair cut', 'hair im', 'ass haircut', 'look mirror', 'plastic surgery']"
   ]
  },
  {
   "cell_type": "code",
   "execution_count": 11,
   "id": "e68b90f3-06f7-4cc7-a54c-84c14f3d4dee",
   "metadata": {},
   "outputs": [
    {
     "name": "stdout",
     "output_type": "stream",
     "text": [
      "Word count in suicidal text: 3080\n",
      "Word count in non-suicidal text: 1525\n"
     ]
    }
   ],
   "source": [
    "word_count_in_suicidal_text = 0\n",
    "word_count_in_non_suicidal_text = 0\n",
    "\n",
    "for index, row in df.iterrows():\n",
    "    text = row['text']\n",
    "    class_label = row['class']\n",
    "    for words in relevant_frequent_words:\n",
    "        if words in text:\n",
    "            if class_label == \"suicide\":\n",
    "                word_count_in_suicidal_text += 1\n",
    "            else:\n",
    "                word_count_in_non_suicidal_text +=1\n",
    "        else:\n",
    "            pass\n",
    "\n",
    "print(\"Word count in suicidal text: \" + str(word_count_in_suicidal_text))\n",
    "print(\"Word count in non-suicidal text: \" + str(word_count_in_non_suicidal_text))"
   ]
  },
  {
   "cell_type": "code",
   "execution_count": 20,
   "id": "4cccf122-1711-4348-8bea-d1ae3e2b8c70",
   "metadata": {},
   "outputs": [
    {
     "name": "stdout",
     "output_type": "stream",
     "text": [
      "Number of suicidal documents with suicidal words related to self image and physical appearance: 56\n",
      "Number of non-suicidal documents with suicidal words related to self image and physical appearance: 99\n"
     ]
    }
   ],
   "source": [
    "#this is the distribution of suicidal and non suicidal text that contains the phrases related to self image and physical appearance\n",
    "num_of_unique_suicidal_text = 0\n",
    "num_of_unique_non_suicidal_text = 0\n",
    "\n",
    "for index, row in df.iterrows():\n",
    "    text = row['text']\n",
    "    class_label = row['class']\n",
    "    for words in relevant_frequent_words:\n",
    "        if words in text:\n",
    "            if class_label == \"suicide\":\n",
    "                num_of_unique_suicidal_text += 1\n",
    "            else:\n",
    "                num_of_unique_non_suicidal_text +=1\n",
    "        else:\n",
    "            pass\n",
    "        break\n",
    "print(\"Number of suicidal documents with suicidal words related to self image and physical appearance: \" + str(num_of_unique_suicidal_text))\n",
    "print(\"Number of non-suicidal documents with suicidal words related to self image and physical appearance: \" + str(num_of_unique_non_suicidal_text))"
   ]
  },
  {
   "cell_type": "code",
   "execution_count": null,
   "id": "c28ccade-8a08-4eaa-8df6-163ee0b226d0",
   "metadata": {},
   "outputs": [],
   "source": []
  }
 ],
 "metadata": {
  "kernelspec": {
   "display_name": "Python 3 (ipykernel)",
   "language": "python",
   "name": "python3"
  },
  "language_info": {
   "codemirror_mode": {
    "name": "ipython",
    "version": 3
   },
   "file_extension": ".py",
   "mimetype": "text/x-python",
   "name": "python",
   "nbconvert_exporter": "python",
   "pygments_lexer": "ipython3",
   "version": "3.11.7"
  }
 },
 "nbformat": 4,
 "nbformat_minor": 5
}
